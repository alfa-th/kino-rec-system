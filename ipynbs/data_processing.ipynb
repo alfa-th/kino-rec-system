{
 "cells": [
  {
   "cell_type": "code",
   "execution_count": 1,
   "metadata": {},
   "outputs": [],
   "source": [
    "import polars as pl\n",
    "from pathlib import Path"
   ]
  },
  {
   "cell_type": "code",
   "execution_count": 3,
   "metadata": {},
   "outputs": [],
   "source": [
    "meta_df = pl.read_csv(\"data/movies_metadata.csv\", infer_schema_length=10000000)"
   ]
  },
  {
   "cell_type": "code",
   "execution_count": 4,
   "metadata": {},
   "outputs": [
    {
     "data": {
      "text/html": [
       "<div><style>\n",
       ".dataframe > thead > tr > th,\n",
       ".dataframe > tbody > tr > td {\n",
       "  text-align: right;\n",
       "}\n",
       "</style>\n",
       "<small>shape: (45_466, 24)</small><table border=\"1\" class=\"dataframe\"><thead><tr><th>adult</th><th>belongs_to_collection</th><th>budget</th><th>genres</th><th>homepage</th><th>id</th><th>imdb_id</th><th>original_language</th><th>original_title</th><th>overview</th><th>popularity</th><th>poster_path</th><th>production_companies</th><th>production_countries</th><th>release_date</th><th>revenue</th><th>runtime</th><th>spoken_languages</th><th>status</th><th>tagline</th><th>title</th><th>video</th><th>vote_average</th><th>vote_count</th></tr><tr><td>str</td><td>str</td><td>str</td><td>str</td><td>str</td><td>str</td><td>str</td><td>str</td><td>str</td><td>str</td><td>str</td><td>str</td><td>str</td><td>str</td><td>str</td><td>i64</td><td>f64</td><td>str</td><td>str</td><td>str</td><td>str</td><td>bool</td><td>f64</td><td>i64</td></tr></thead><tbody><tr><td>&quot;False&quot;</td><td>&quot;{&#x27;id&#x27;: 10194, …</td><td>&quot;30000000&quot;</td><td>&quot;[{&#x27;id&#x27;: 16, &#x27;n…</td><td>&quot;http://toystor…</td><td>&quot;862&quot;</td><td>&quot;tt0114709&quot;</td><td>&quot;en&quot;</td><td>&quot;Toy Story&quot;</td><td>&quot;Led by Woody, …</td><td>&quot;21.946943&quot;</td><td>&quot;/rhIRbceoE9lR4…</td><td>&quot;[{&#x27;name&#x27;: &#x27;Pix…</td><td>&quot;[{&#x27;iso_3166_1&#x27;…</td><td>&quot;1995-10-30&quot;</td><td>373554033</td><td>81.0</td><td>&quot;[{&#x27;iso_639_1&#x27;:…</td><td>&quot;Released&quot;</td><td>null</td><td>&quot;Toy Story&quot;</td><td>false</td><td>7.7</td><td>5415</td></tr><tr><td>&quot;False&quot;</td><td>null</td><td>&quot;65000000&quot;</td><td>&quot;[{&#x27;id&#x27;: 12, &#x27;n…</td><td>null</td><td>&quot;8844&quot;</td><td>&quot;tt0113497&quot;</td><td>&quot;en&quot;</td><td>&quot;Jumanji&quot;</td><td>&quot;When siblings …</td><td>&quot;17.015539&quot;</td><td>&quot;/vzmL6fP7aPKNK…</td><td>&quot;[{&#x27;name&#x27;: &#x27;Tri…</td><td>&quot;[{&#x27;iso_3166_1&#x27;…</td><td>&quot;1995-12-15&quot;</td><td>262797249</td><td>104.0</td><td>&quot;[{&#x27;iso_639_1&#x27;:…</td><td>&quot;Released&quot;</td><td>&quot;Roll the dice …</td><td>&quot;Jumanji&quot;</td><td>false</td><td>6.9</td><td>2413</td></tr><tr><td>&quot;False&quot;</td><td>&quot;{&#x27;id&#x27;: 119050,…</td><td>&quot;0&quot;</td><td>&quot;[{&#x27;id&#x27;: 10749,…</td><td>null</td><td>&quot;15602&quot;</td><td>&quot;tt0113228&quot;</td><td>&quot;en&quot;</td><td>&quot;Grumpier Old M…</td><td>&quot;A family weddi…</td><td>&quot;11.7129&quot;</td><td>&quot;/6ksm1sjKMFLbO…</td><td>&quot;[{&#x27;name&#x27;: &#x27;War…</td><td>&quot;[{&#x27;iso_3166_1&#x27;…</td><td>&quot;1995-12-22&quot;</td><td>0</td><td>101.0</td><td>&quot;[{&#x27;iso_639_1&#x27;:…</td><td>&quot;Released&quot;</td><td>&quot;Still Yelling.…</td><td>&quot;Grumpier Old M…</td><td>false</td><td>6.5</td><td>92</td></tr><tr><td>&quot;False&quot;</td><td>null</td><td>&quot;16000000&quot;</td><td>&quot;[{&#x27;id&#x27;: 35, &#x27;n…</td><td>null</td><td>&quot;31357&quot;</td><td>&quot;tt0114885&quot;</td><td>&quot;en&quot;</td><td>&quot;Waiting to Exh…</td><td>&quot;Cheated on, mi…</td><td>&quot;3.859495&quot;</td><td>&quot;/16XOMpEaLWkrc…</td><td>&quot;[{&#x27;name&#x27;: &#x27;Twe…</td><td>&quot;[{&#x27;iso_3166_1&#x27;…</td><td>&quot;1995-12-22&quot;</td><td>81452156</td><td>127.0</td><td>&quot;[{&#x27;iso_639_1&#x27;:…</td><td>&quot;Released&quot;</td><td>&quot;Friends are th…</td><td>&quot;Waiting to Exh…</td><td>false</td><td>6.1</td><td>34</td></tr><tr><td>&quot;False&quot;</td><td>&quot;{&#x27;id&#x27;: 96871, …</td><td>&quot;0&quot;</td><td>&quot;[{&#x27;id&#x27;: 35, &#x27;n…</td><td>null</td><td>&quot;11862&quot;</td><td>&quot;tt0113041&quot;</td><td>&quot;en&quot;</td><td>&quot;Father of the …</td><td>&quot;Just when Geor…</td><td>&quot;8.387519&quot;</td><td>&quot;/e64sOI48hQXyr…</td><td>&quot;[{&#x27;name&#x27;: &#x27;San…</td><td>&quot;[{&#x27;iso_3166_1&#x27;…</td><td>&quot;1995-02-10&quot;</td><td>76578911</td><td>106.0</td><td>&quot;[{&#x27;iso_639_1&#x27;:…</td><td>&quot;Released&quot;</td><td>&quot;Just When His …</td><td>&quot;Father of the …</td><td>false</td><td>5.7</td><td>173</td></tr><tr><td>&quot;False&quot;</td><td>null</td><td>&quot;60000000&quot;</td><td>&quot;[{&#x27;id&#x27;: 28, &#x27;n…</td><td>null</td><td>&quot;949&quot;</td><td>&quot;tt0113277&quot;</td><td>&quot;en&quot;</td><td>&quot;Heat&quot;</td><td>&quot;Obsessive mast…</td><td>&quot;17.924927&quot;</td><td>&quot;/zMyfPUelumio3…</td><td>&quot;[{&#x27;name&#x27;: &#x27;Reg…</td><td>&quot;[{&#x27;iso_3166_1&#x27;…</td><td>&quot;1995-12-15&quot;</td><td>187436818</td><td>170.0</td><td>&quot;[{&#x27;iso_639_1&#x27;:…</td><td>&quot;Released&quot;</td><td>&quot;A Los Angeles …</td><td>&quot;Heat&quot;</td><td>false</td><td>7.7</td><td>1886</td></tr><tr><td>&quot;False&quot;</td><td>null</td><td>&quot;58000000&quot;</td><td>&quot;[{&#x27;id&#x27;: 35, &#x27;n…</td><td>null</td><td>&quot;11860&quot;</td><td>&quot;tt0114319&quot;</td><td>&quot;en&quot;</td><td>&quot;Sabrina&quot;</td><td>&quot;An ugly duckli…</td><td>&quot;6.677277&quot;</td><td>&quot;/jQh15y5YB7bWz…</td><td>&quot;[{&#x27;name&#x27;: &#x27;Par…</td><td>&quot;[{&#x27;iso_3166_1&#x27;…</td><td>&quot;1995-12-15&quot;</td><td>0</td><td>127.0</td><td>&quot;[{&#x27;iso_639_1&#x27;:…</td><td>&quot;Released&quot;</td><td>&quot;You are cordia…</td><td>&quot;Sabrina&quot;</td><td>false</td><td>6.2</td><td>141</td></tr><tr><td>&quot;False&quot;</td><td>null</td><td>&quot;0&quot;</td><td>&quot;[{&#x27;id&#x27;: 28, &#x27;n…</td><td>null</td><td>&quot;45325&quot;</td><td>&quot;tt0112302&quot;</td><td>&quot;en&quot;</td><td>&quot;Tom and Huck&quot;</td><td>&quot;A mischievous …</td><td>&quot;2.561161&quot;</td><td>&quot;/sGO5Qa55p7wTu…</td><td>&quot;[{&#x27;name&#x27;: &#x27;Wal…</td><td>&quot;[{&#x27;iso_3166_1&#x27;…</td><td>&quot;1995-12-22&quot;</td><td>0</td><td>97.0</td><td>&quot;[{&#x27;iso_639_1&#x27;:…</td><td>&quot;Released&quot;</td><td>&quot;The Original B…</td><td>&quot;Tom and Huck&quot;</td><td>false</td><td>5.4</td><td>45</td></tr><tr><td>&quot;False&quot;</td><td>null</td><td>&quot;35000000&quot;</td><td>&quot;[{&#x27;id&#x27;: 28, &#x27;n…</td><td>null</td><td>&quot;9091&quot;</td><td>&quot;tt0114576&quot;</td><td>&quot;en&quot;</td><td>&quot;Sudden Death&quot;</td><td>&quot;International …</td><td>&quot;5.23158&quot;</td><td>&quot;/eoWvKD60lT95S…</td><td>&quot;[{&#x27;name&#x27;: &#x27;Uni…</td><td>&quot;[{&#x27;iso_3166_1&#x27;…</td><td>&quot;1995-12-22&quot;</td><td>64350171</td><td>106.0</td><td>&quot;[{&#x27;iso_639_1&#x27;:…</td><td>&quot;Released&quot;</td><td>&quot;Terror goes in…</td><td>&quot;Sudden Death&quot;</td><td>false</td><td>5.5</td><td>174</td></tr><tr><td>&quot;False&quot;</td><td>&quot;{&#x27;id&#x27;: 645, &#x27;n…</td><td>&quot;58000000&quot;</td><td>&quot;[{&#x27;id&#x27;: 12, &#x27;n…</td><td>&quot;http://www.mgm…</td><td>&quot;710&quot;</td><td>&quot;tt0113189&quot;</td><td>&quot;en&quot;</td><td>&quot;GoldenEye&quot;</td><td>&quot;James Bond mus…</td><td>&quot;14.686036&quot;</td><td>&quot;/5c0ovjT41KnYI…</td><td>&quot;[{&#x27;name&#x27;: &#x27;Uni…</td><td>&quot;[{&#x27;iso_3166_1&#x27;…</td><td>&quot;1995-11-16&quot;</td><td>352194034</td><td>130.0</td><td>&quot;[{&#x27;iso_639_1&#x27;:…</td><td>&quot;Released&quot;</td><td>&quot;No limits. No …</td><td>&quot;GoldenEye&quot;</td><td>false</td><td>6.6</td><td>1194</td></tr><tr><td>&quot;False&quot;</td><td>null</td><td>&quot;62000000&quot;</td><td>&quot;[{&#x27;id&#x27;: 35, &#x27;n…</td><td>null</td><td>&quot;9087&quot;</td><td>&quot;tt0112346&quot;</td><td>&quot;en&quot;</td><td>&quot;The American P…</td><td>&quot;Widowed U.S. p…</td><td>&quot;6.318445&quot;</td><td>&quot;/lymPNGLZgPHuq…</td><td>&quot;[{&#x27;name&#x27;: &#x27;Col…</td><td>&quot;[{&#x27;iso_3166_1&#x27;…</td><td>&quot;1995-11-17&quot;</td><td>107879496</td><td>106.0</td><td>&quot;[{&#x27;iso_639_1&#x27;:…</td><td>&quot;Released&quot;</td><td>&quot;Why can&#x27;t the …</td><td>&quot;The American P…</td><td>false</td><td>6.5</td><td>199</td></tr><tr><td>&quot;False&quot;</td><td>null</td><td>&quot;0&quot;</td><td>&quot;[{&#x27;id&#x27;: 35, &#x27;n…</td><td>null</td><td>&quot;12110&quot;</td><td>&quot;tt0112896&quot;</td><td>&quot;en&quot;</td><td>&quot;Dracula: Dead …</td><td>&quot;When a lawyer …</td><td>&quot;5.430331&quot;</td><td>&quot;/xve4cgfYItnOh…</td><td>&quot;[{&#x27;name&#x27;: &#x27;Col…</td><td>&quot;[{&#x27;iso_3166_1&#x27;…</td><td>&quot;1995-12-22&quot;</td><td>0</td><td>88.0</td><td>&quot;[{&#x27;iso_639_1&#x27;:…</td><td>&quot;Released&quot;</td><td>null</td><td>&quot;Dracula: Dead …</td><td>false</td><td>5.7</td><td>210</td></tr><tr><td>&hellip;</td><td>&hellip;</td><td>&hellip;</td><td>&hellip;</td><td>&hellip;</td><td>&hellip;</td><td>&hellip;</td><td>&hellip;</td><td>&hellip;</td><td>&hellip;</td><td>&hellip;</td><td>&hellip;</td><td>&hellip;</td><td>&hellip;</td><td>&hellip;</td><td>&hellip;</td><td>&hellip;</td><td>&hellip;</td><td>&hellip;</td><td>&hellip;</td><td>&hellip;</td><td>&hellip;</td><td>&hellip;</td><td>&hellip;</td></tr><tr><td>&quot;False&quot;</td><td>null</td><td>&quot;0&quot;</td><td>&quot;[{&#x27;id&#x27;: 35, &#x27;n…</td><td>null</td><td>&quot;420346&quot;</td><td>&quot;tt4130180&quot;</td><td>&quot;en&quot;</td><td>&quot;The Morning Af…</td><td>&quot;The Morning Af…</td><td>&quot;0.139936&quot;</td><td>&quot;/rpkDqyKdXahRc…</td><td>&quot;[{&#x27;name&#x27;: &#x27;Oop…</td><td>&quot;[{&#x27;iso_3166_1&#x27;…</td><td>&quot;2015-01-11&quot;</td><td>0</td><td>79.0</td><td>&quot;[{&#x27;iso_639_1&#x27;:…</td><td>&quot;Released&quot;</td><td>&quot;What happened …</td><td>&quot;The Morning Af…</td><td>false</td><td>4.0</td><td>2</td></tr><tr><td>&quot;False&quot;</td><td>null</td><td>&quot;0&quot;</td><td>&quot;[]&quot;</td><td>null</td><td>&quot;67179&quot;</td><td>&quot;tt0069215&quot;</td><td>&quot;it&quot;</td><td>&quot;San Michele av…</td><td>&quot;Sentenced to l…</td><td>&quot;0.225051&quot;</td><td>&quot;/j1AN0L4motTt8…</td><td>&quot;[]&quot;</td><td>&quot;[]&quot;</td><td>&quot;1972-01-01&quot;</td><td>0</td><td>90.0</td><td>&quot;[{&#x27;iso_639_1&#x27;:…</td><td>&quot;Released&quot;</td><td>null</td><td>&quot;St. Michael Ha…</td><td>false</td><td>6.0</td><td>3</td></tr><tr><td>&quot;False&quot;</td><td>null</td><td>&quot;0&quot;</td><td>&quot;[{&#x27;id&#x27;: 27, &#x27;n…</td><td>null</td><td>&quot;84419&quot;</td><td>&quot;tt0038621&quot;</td><td>&quot;en&quot;</td><td>&quot;House of Horro…</td><td>&quot;An unsuccessfu…</td><td>&quot;0.222814&quot;</td><td>&quot;/yMnq9mL5uYxbR…</td><td>&quot;[{&#x27;name&#x27;: &#x27;Uni…</td><td>&quot;[{&#x27;iso_3166_1&#x27;…</td><td>&quot;1946-03-29&quot;</td><td>0</td><td>65.0</td><td>&quot;[{&#x27;iso_639_1&#x27;:…</td><td>&quot;Released&quot;</td><td>&quot;Meet...The CRE…</td><td>&quot;House of Horro…</td><td>false</td><td>6.3</td><td>8</td></tr><tr><td>&quot;False&quot;</td><td>null</td><td>&quot;0&quot;</td><td>&quot;[{&#x27;id&#x27;: 9648, …</td><td>null</td><td>&quot;390959&quot;</td><td>&quot;tt0265736&quot;</td><td>&quot;en&quot;</td><td>&quot;Shadow of the …</td><td>&quot;In this true-c…</td><td>&quot;0.076061&quot;</td><td>&quot;/q75tCM4pFmUzd…</td><td>&quot;[]&quot;</td><td>&quot;[]&quot;</td><td>&quot;2000-10-22&quot;</td><td>0</td><td>45.0</td><td>&quot;[{&#x27;iso_639_1&#x27;:…</td><td>&quot;Released&quot;</td><td>null</td><td>&quot;Shadow of the …</td><td>false</td><td>7.0</td><td>2</td></tr><tr><td>&quot;False&quot;</td><td>null</td><td>&quot;0&quot;</td><td>&quot;[{&#x27;id&#x27;: 27, &#x27;n…</td><td>null</td><td>&quot;289923&quot;</td><td>&quot;tt0252966&quot;</td><td>&quot;en&quot;</td><td>&quot;The Burkittsvi…</td><td>&quot;A film archivi…</td><td>&quot;0.38645&quot;</td><td>&quot;/lXtoHVdej6kS1…</td><td>&quot;[{&#x27;name&#x27;: &#x27;Nep…</td><td>&quot;[{&#x27;iso_3166_1&#x27;…</td><td>&quot;2000-10-03&quot;</td><td>0</td><td>30.0</td><td>&quot;[{&#x27;iso_639_1&#x27;:…</td><td>&quot;Released&quot;</td><td>&quot;Do you know wh…</td><td>&quot;The Burkittsvi…</td><td>false</td><td>7.0</td><td>1</td></tr><tr><td>&quot;False&quot;</td><td>null</td><td>&quot;0&quot;</td><td>&quot;[{&#x27;id&#x27;: 878, &#x27;…</td><td>null</td><td>&quot;222848&quot;</td><td>&quot;tt0112613&quot;</td><td>&quot;en&quot;</td><td>&quot;Caged Heat 300…</td><td>&quot;It&#x27;s the year …</td><td>&quot;0.661558&quot;</td><td>&quot;/4lF9LH0b0Z1X9…</td><td>&quot;[{&#x27;name&#x27;: &#x27;Con…</td><td>&quot;[{&#x27;iso_3166_1&#x27;…</td><td>&quot;1995-01-01&quot;</td><td>0</td><td>85.0</td><td>&quot;[{&#x27;iso_639_1&#x27;:…</td><td>&quot;Released&quot;</td><td>null</td><td>&quot;Caged Heat 300…</td><td>false</td><td>3.5</td><td>1</td></tr><tr><td>&quot;False&quot;</td><td>null</td><td>&quot;0&quot;</td><td>&quot;[{&#x27;id&#x27;: 18, &#x27;n…</td><td>null</td><td>&quot;30840&quot;</td><td>&quot;tt0102797&quot;</td><td>&quot;en&quot;</td><td>&quot;Robin Hood&quot;</td><td>&quot;Yet another ve…</td><td>&quot;5.683753&quot;</td><td>&quot;/fQC46NglNiEMZ…</td><td>&quot;[{&#x27;name&#x27;: &#x27;Wes…</td><td>&quot;[{&#x27;iso_3166_1&#x27;…</td><td>&quot;1991-05-13&quot;</td><td>0</td><td>104.0</td><td>&quot;[{&#x27;iso_639_1&#x27;:…</td><td>&quot;Released&quot;</td><td>null</td><td>&quot;Robin Hood&quot;</td><td>false</td><td>5.7</td><td>26</td></tr><tr><td>&quot;False&quot;</td><td>null</td><td>&quot;0&quot;</td><td>&quot;[{&#x27;id&#x27;: 18, &#x27;n…</td><td>&quot;http://www.imd…</td><td>&quot;439050&quot;</td><td>&quot;tt6209470&quot;</td><td>&quot;fa&quot;</td><td>&quot;رگ خواب&quot;</td><td>&quot;Rising and fal…</td><td>&quot;0.072051&quot;</td><td>&quot;/jldsYflnId4tT…</td><td>&quot;[]&quot;</td><td>&quot;[{&#x27;iso_3166_1&#x27;…</td><td>null</td><td>0</td><td>90.0</td><td>&quot;[{&#x27;iso_639_1&#x27;:…</td><td>&quot;Released&quot;</td><td>&quot;Rising and fal…</td><td>&quot;Subdue&quot;</td><td>false</td><td>4.0</td><td>1</td></tr><tr><td>&quot;False&quot;</td><td>null</td><td>&quot;0&quot;</td><td>&quot;[{&#x27;id&#x27;: 18, &#x27;n…</td><td>null</td><td>&quot;111109&quot;</td><td>&quot;tt2028550&quot;</td><td>&quot;tl&quot;</td><td>&quot;Siglo ng Paglu…</td><td>&quot;An artist stru…</td><td>&quot;0.178241&quot;</td><td>&quot;/xZkmxsNmYXJbK…</td><td>&quot;[{&#x27;name&#x27;: &#x27;Sin…</td><td>&quot;[{&#x27;iso_3166_1&#x27;…</td><td>&quot;2011-11-17&quot;</td><td>0</td><td>360.0</td><td>&quot;[{&#x27;iso_639_1&#x27;:…</td><td>&quot;Released&quot;</td><td>null</td><td>&quot;Century of Bir…</td><td>false</td><td>9.0</td><td>3</td></tr><tr><td>&quot;False&quot;</td><td>null</td><td>&quot;0&quot;</td><td>&quot;[{&#x27;id&#x27;: 28, &#x27;n…</td><td>null</td><td>&quot;67758&quot;</td><td>&quot;tt0303758&quot;</td><td>&quot;en&quot;</td><td>&quot;Betrayal&quot;</td><td>&quot;When one of he…</td><td>&quot;0.903007&quot;</td><td>&quot;/d5bX92nDsISNh…</td><td>&quot;[{&#x27;name&#x27;: &#x27;Ame…</td><td>&quot;[{&#x27;iso_3166_1&#x27;…</td><td>&quot;2003-08-01&quot;</td><td>0</td><td>90.0</td><td>&quot;[{&#x27;iso_639_1&#x27;:…</td><td>&quot;Released&quot;</td><td>&quot;A deadly game …</td><td>&quot;Betrayal&quot;</td><td>false</td><td>3.8</td><td>6</td></tr><tr><td>&quot;False&quot;</td><td>null</td><td>&quot;0&quot;</td><td>&quot;[]&quot;</td><td>null</td><td>&quot;227506&quot;</td><td>&quot;tt0008536&quot;</td><td>&quot;en&quot;</td><td>&quot;Satana likuyus…</td><td>&quot;In a small tow…</td><td>&quot;0.003503&quot;</td><td>&quot;/aorBPO7ak8e8i…</td><td>&quot;[{&#x27;name&#x27;: &#x27;Yer…</td><td>&quot;[{&#x27;iso_3166_1&#x27;…</td><td>&quot;1917-10-21&quot;</td><td>0</td><td>87.0</td><td>&quot;[]&quot;</td><td>&quot;Released&quot;</td><td>null</td><td>&quot;Satan Triumpha…</td><td>false</td><td>0.0</td><td>0</td></tr><tr><td>&quot;False&quot;</td><td>null</td><td>&quot;0&quot;</td><td>&quot;[]&quot;</td><td>null</td><td>&quot;461257&quot;</td><td>&quot;tt6980792&quot;</td><td>&quot;en&quot;</td><td>&quot;Queerama&quot;</td><td>&quot;50 years after…</td><td>&quot;0.163015&quot;</td><td>&quot;/s5UkZt6NTsrS7…</td><td>&quot;[]&quot;</td><td>&quot;[{&#x27;iso_3166_1&#x27;…</td><td>&quot;2017-06-09&quot;</td><td>0</td><td>75.0</td><td>&quot;[{&#x27;iso_639_1&#x27;:…</td><td>&quot;Released&quot;</td><td>null</td><td>&quot;Queerama&quot;</td><td>false</td><td>0.0</td><td>0</td></tr></tbody></table></div>"
      ],
      "text/plain": [
       "shape: (45_466, 24)\n",
       "┌───────┬────────────┬──────────┬──────────────┬───┬─────────────┬───────┬────────────┬────────────┐\n",
       "│ adult ┆ belongs_to ┆ budget   ┆ genres       ┆ … ┆ title       ┆ video ┆ vote_avera ┆ vote_count │\n",
       "│ ---   ┆ _collectio ┆ ---      ┆ ---          ┆   ┆ ---         ┆ ---   ┆ ge         ┆ ---        │\n",
       "│ str   ┆ n          ┆ str      ┆ str          ┆   ┆ str         ┆ bool  ┆ ---        ┆ i64        │\n",
       "│       ┆ ---        ┆          ┆              ┆   ┆             ┆       ┆ f64        ┆            │\n",
       "│       ┆ str        ┆          ┆              ┆   ┆             ┆       ┆            ┆            │\n",
       "╞═══════╪════════════╪══════════╪══════════════╪═══╪═════════════╪═══════╪════════════╪════════════╡\n",
       "│ False ┆ {'id':     ┆ 30000000 ┆ [{'id': 16,  ┆ … ┆ Toy Story   ┆ false ┆ 7.7        ┆ 5415       │\n",
       "│       ┆ 10194,     ┆          ┆ 'name': 'Ani ┆   ┆             ┆       ┆            ┆            │\n",
       "│       ┆ 'name':    ┆          ┆ mation'}…    ┆   ┆             ┆       ┆            ┆            │\n",
       "│       ┆ 'Toy       ┆          ┆              ┆   ┆             ┆       ┆            ┆            │\n",
       "│       ┆ Story…     ┆          ┆              ┆   ┆             ┆       ┆            ┆            │\n",
       "│ False ┆ null       ┆ 65000000 ┆ [{'id': 12,  ┆ … ┆ Jumanji     ┆ false ┆ 6.9        ┆ 2413       │\n",
       "│       ┆            ┆          ┆ 'name': 'Adv ┆   ┆             ┆       ┆            ┆            │\n",
       "│       ┆            ┆          ┆ enture'}…    ┆   ┆             ┆       ┆            ┆            │\n",
       "│ False ┆ {'id':     ┆ 0        ┆ [{'id':      ┆ … ┆ Grumpier    ┆ false ┆ 6.5        ┆ 92         │\n",
       "│       ┆ 119050,    ┆          ┆ 10749,       ┆   ┆ Old Men     ┆       ┆            ┆            │\n",
       "│       ┆ 'name':    ┆          ┆ 'name':      ┆   ┆             ┆       ┆            ┆            │\n",
       "│       ┆ 'Grumpy O… ┆          ┆ 'Romance'…   ┆   ┆             ┆       ┆            ┆            │\n",
       "│ False ┆ null       ┆ 16000000 ┆ [{'id': 35,  ┆ … ┆ Waiting to  ┆ false ┆ 6.1        ┆ 34         │\n",
       "│       ┆            ┆          ┆ 'name':      ┆   ┆ Exhale      ┆       ┆            ┆            │\n",
       "│       ┆            ┆          ┆ 'Comedy'},   ┆   ┆             ┆       ┆            ┆            │\n",
       "│       ┆            ┆          ┆ {…           ┆   ┆             ┆       ┆            ┆            │\n",
       "│ …     ┆ …          ┆ …        ┆ …            ┆ … ┆ …           ┆ …     ┆ …          ┆ …          │\n",
       "│ False ┆ null       ┆ 0        ┆ [{'id': 18,  ┆ … ┆ Century of  ┆ false ┆ 9.0        ┆ 3          │\n",
       "│       ┆            ┆          ┆ 'name':      ┆   ┆ Birthing    ┆       ┆            ┆            │\n",
       "│       ┆            ┆          ┆ 'Drama'}]    ┆   ┆             ┆       ┆            ┆            │\n",
       "│ False ┆ null       ┆ 0        ┆ [{'id': 28,  ┆ … ┆ Betrayal    ┆ false ┆ 3.8        ┆ 6          │\n",
       "│       ┆            ┆          ┆ 'name':      ┆   ┆             ┆       ┆            ┆            │\n",
       "│       ┆            ┆          ┆ 'Action'},   ┆   ┆             ┆       ┆            ┆            │\n",
       "│       ┆            ┆          ┆ {…           ┆   ┆             ┆       ┆            ┆            │\n",
       "│ False ┆ null       ┆ 0        ┆ []           ┆ … ┆ Satan       ┆ false ┆ 0.0        ┆ 0          │\n",
       "│       ┆            ┆          ┆              ┆   ┆ Triumphant  ┆       ┆            ┆            │\n",
       "│ False ┆ null       ┆ 0        ┆ []           ┆ … ┆ Queerama    ┆ false ┆ 0.0        ┆ 0          │\n",
       "└───────┴────────────┴──────────┴──────────────┴───┴─────────────┴───────┴────────────┴────────────┘"
      ]
     },
     "execution_count": 4,
     "metadata": {},
     "output_type": "execute_result"
    }
   ],
   "source": [
    "meta_df"
   ]
  },
  {
   "cell_type": "code",
   "execution_count": 9,
   "metadata": {},
   "outputs": [],
   "source": [
    "meta_df = (\n",
    "    meta_df.with_columns(\n",
    "        adult=pl.col(\"adult\") == \"True\",\n",
    "        budget=pl.col(\"budget\").str.parse_int(10, strict=False),\n",
    "        id=pl.col(\"id\").str.parse_int(10, strict=False),\n",
    "        imdb_id=pl.col(\"imdb_id\").str.replace(\"tt\", \"\").str.parse_int(10).cast(pl.Int64),\n",
    "        popularity=pl.col(\"popularity\").cast(pl.Float64, strict=False),\n",
    "        release_date=pl.col(\"release_date\").str.to_date(format=\"%Y-%m-%d\", strict=False),\n",
    "        status=pl.col(\"status\").cast(pl.Categorical),\n",
    "    )\n",
    ")"
   ]
  },
  {
   "cell_type": "code",
   "execution_count": 10,
   "metadata": {},
   "outputs": [],
   "source": [
    "movie_df = meta_df.select(\n",
    "    [\n",
    "        \"id\",\n",
    "        \"imdb_id\",\n",
    "        \"original_title\",\n",
    "        \"popularity\",\n",
    "        \"release_date\",\n",
    "        \"revenue\",\n",
    "        \"runtime\",\n",
    "        \"vote_average\",\n",
    "        \"vote_count\",\n",
    "    ]\n",
    ")"
   ]
  },
  {
   "cell_type": "code",
   "execution_count": 13,
   "metadata": {},
   "outputs": [],
   "source": [
    "movie_df.write_parquet(processed_folder / \"movie.parquet\")"
   ]
  },
  {
   "cell_type": "code",
   "execution_count": 14,
   "metadata": {},
   "outputs": [],
   "source": [
    "movie_df = pl.read_parquet(processed_folder / \"movie.parquet\")\n",
    "links_df = pl.read_csv(\"data/links.csv\")\n",
    "review_df = pl.read_csv(\"data/ratings.csv\")"
   ]
  },
  {
   "cell_type": "code",
   "execution_count": 15,
   "metadata": {},
   "outputs": [],
   "source": [
    "(\n",
    "    review_df\n",
    "    .join(links_df, on=\"movieId\", how=\"inner\")\n",
    "    .join(movie_df, left_on=\"imdbId\", right_on=\"imdb_id\", how=\"inner\")\n",
    "    .write_parquet(processed_folder / \"processed.parquet\")\n",
    ")"
   ]
  },
  {
   "cell_type": "code",
   "execution_count": null,
   "metadata": {},
   "outputs": [],
   "source": []
  }
 ],
 "metadata": {
  "kernelspec": {
   "display_name": ".venv",
   "language": "python",
   "name": "python3"
  },
  "language_info": {
   "codemirror_mode": {
    "name": "ipython",
    "version": 3
   },
   "file_extension": ".py",
   "mimetype": "text/x-python",
   "name": "python",
   "nbconvert_exporter": "python",
   "pygments_lexer": "ipython3",
   "version": "3.11.0"
  },
  "orig_nbformat": 4
 },
 "nbformat": 4,
 "nbformat_minor": 2
}
