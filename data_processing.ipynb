{
 "cells": [
  {
   "cell_type": "code",
   "execution_count": 1,
   "metadata": {},
   "outputs": [],
   "source": [
    "import polars as pl\n",
    "from pathlib import Path"
   ]
  },
  {
   "cell_type": "code",
   "execution_count": 7,
   "metadata": {},
   "outputs": [],
   "source": [
    "processed_folder = Path(\".\") / \"data\" / \"processed\""
   ]
  },
  {
   "cell_type": "code",
   "execution_count": 8,
   "metadata": {},
   "outputs": [],
   "source": [
    "meta_df = pl.read_csv(\"data/movies_metadata.csv\", infer_schema_length=10000000)"
   ]
  },
  {
   "cell_type": "code",
   "execution_count": 9,
   "metadata": {},
   "outputs": [],
   "source": [
    "meta_df = (\n",
    "    meta_df.with_columns(\n",
    "        adult=pl.col(\"adult\") == \"True\",\n",
    "        budget=pl.col(\"budget\").str.parse_int(10, strict=False),\n",
    "        id=pl.col(\"id\").str.parse_int(10, strict=False),\n",
    "        imdb_id=pl.col(\"imdb_id\").str.replace(\"tt\", \"\").str.parse_int(10).cast(pl.Int64),\n",
    "        popularity=pl.col(\"popularity\").cast(pl.Float64, strict=False),\n",
    "        release_date=pl.col(\"release_date\").str.to_date(format=\"%Y-%m-%d\", strict=False),\n",
    "        status=pl.col(\"status\").cast(pl.Categorical),\n",
    "    )\n",
    ")"
   ]
  },
  {
   "cell_type": "code",
   "execution_count": 10,
   "metadata": {},
   "outputs": [],
   "source": [
    "movie_df = meta_df.select(\n",
    "    [\n",
    "        \"id\",\n",
    "        \"imdb_id\",\n",
    "        \"original_title\",\n",
    "        \"popularity\",\n",
    "        \"release_date\",\n",
    "        \"revenue\",\n",
    "        \"runtime\",\n",
    "        \"vote_average\",\n",
    "        \"vote_count\",\n",
    "    ]\n",
    ")"
   ]
  },
  {
   "cell_type": "code",
   "execution_count": 13,
   "metadata": {},
   "outputs": [],
   "source": [
    "movie_df.write_parquet(processed_folder / \"movie.parquet\")"
   ]
  },
  {
   "cell_type": "code",
   "execution_count": 14,
   "metadata": {},
   "outputs": [],
   "source": [
    "movie_df = pl.read_parquet(processed_folder / \"movie.parquet\")\n",
    "links_df = pl.read_csv(\"data/links.csv\")\n",
    "review_df = pl.read_csv(\"data/ratings.csv\")"
   ]
  },
  {
   "cell_type": "code",
   "execution_count": 15,
   "metadata": {},
   "outputs": [],
   "source": [
    "(\n",
    "    review_df\n",
    "    .join(links_df, on=\"movieId\", how=\"inner\")\n",
    "    .join(movie_df, left_on=\"imdbId\", right_on=\"imdb_id\", how=\"inner\")\n",
    "    .write_parquet(processed_folder / \"processed.parquet\")\n",
    ")"
   ]
  },
  {
   "cell_type": "code",
   "execution_count": null,
   "metadata": {},
   "outputs": [],
   "source": []
  }
 ],
 "metadata": {
  "kernelspec": {
   "display_name": ".venv",
   "language": "python",
   "name": "python3"
  },
  "language_info": {
   "codemirror_mode": {
    "name": "ipython",
    "version": 3
   },
   "file_extension": ".py",
   "mimetype": "text/x-python",
   "name": "python",
   "nbconvert_exporter": "python",
   "pygments_lexer": "ipython3",
   "version": "3.11.2"
  },
  "orig_nbformat": 4
 },
 "nbformat": 4,
 "nbformat_minor": 2
}
