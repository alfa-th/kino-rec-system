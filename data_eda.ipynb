{
 "cells": [
  {
   "cell_type": "code",
   "execution_count": 1,
   "metadata": {},
   "outputs": [],
   "source": [
    "import polars as pl\n",
    "import altair as alt"
   ]
  },
  {
   "cell_type": "code",
   "execution_count": 2,
   "metadata": {},
   "outputs": [
    {
     "data": {
      "text/plain": [
       "{'userId': Int64,\n",
       " 'movieId': Int64,\n",
       " 'rating': Float64,\n",
       " 'timestamp': Int64,\n",
       " 'imdbId': Int64,\n",
       " 'tmdbId': Int64,\n",
       " 'id': Int32,\n",
       " 'original_title': Utf8,\n",
       " 'popularity': Float64,\n",
       " 'release_date': Date,\n",
       " 'revenue': Int64,\n",
       " 'runtime': Float64,\n",
       " 'vote_average': Float64,\n",
       " 'vote_count': Int64}"
      ]
     },
     "execution_count": 2,
     "metadata": {},
     "output_type": "execute_result"
    }
   ],
   "source": [
    "(\n",
    "    pl.scan_parquet(\"data/processed/processed.parquet\").schema\n",
    ")"
   ]
  },
  {
   "cell_type": "code",
   "execution_count": 3,
   "metadata": {},
   "outputs": [],
   "source": [
    "lf = (\n",
    "    pl.scan_parquet(\"data/processed/processed.parquet\", low_memory=True)\n",
    "    .select([\"userId\", \"movieId\", \"rating\", \"timestamp\"])\n",
    ")"
   ]
  },
  {
   "cell_type": "code",
   "execution_count": 4,
   "metadata": {},
   "outputs": [],
   "source": [
    "top_df = (\n",
    "    lf.groupby(\"movieId\")\n",
    "    .agg(pl.col(\"rating\").count())\n",
    "    .sort(pl.col(\"rating\"), descending=True)\n",
    "    .with_row_count()\n",
    "    .head(30)\n",
    "    .collect()\n",
    ")"
   ]
  },
  {
   "cell_type": "code",
   "execution_count": 6,
   "metadata": {},
   "outputs": [
    {
     "data": {
      "text/html": [
       "\n",
       "<style>\n",
       "  #altair-viz-4c58272c48274c5fabd6e730cc78904d.vega-embed {\n",
       "    width: 100%;\n",
       "    display: flex;\n",
       "  }\n",
       "\n",
       "  #altair-viz-4c58272c48274c5fabd6e730cc78904d.vega-embed details,\n",
       "  #altair-viz-4c58272c48274c5fabd6e730cc78904d.vega-embed details summary {\n",
       "    position: relative;\n",
       "  }\n",
       "</style>\n",
       "<div id=\"altair-viz-4c58272c48274c5fabd6e730cc78904d\"></div>\n",
       "<script type=\"text/javascript\">\n",
       "  var VEGA_DEBUG = (typeof VEGA_DEBUG == \"undefined\") ? {} : VEGA_DEBUG;\n",
       "  (function(spec, embedOpt){\n",
       "    let outputDiv = document.currentScript.previousElementSibling;\n",
       "    if (outputDiv.id !== \"altair-viz-4c58272c48274c5fabd6e730cc78904d\") {\n",
       "      outputDiv = document.getElementById(\"altair-viz-4c58272c48274c5fabd6e730cc78904d\");\n",
       "    }\n",
       "    const paths = {\n",
       "      \"vega\": \"https://cdn.jsdelivr.net/npm/vega@5?noext\",\n",
       "      \"vega-lib\": \"https://cdn.jsdelivr.net/npm/vega-lib?noext\",\n",
       "      \"vega-lite\": \"https://cdn.jsdelivr.net/npm/vega-lite@5.8.0?noext\",\n",
       "      \"vega-embed\": \"https://cdn.jsdelivr.net/npm/vega-embed@6?noext\",\n",
       "    };\n",
       "\n",
       "    function maybeLoadScript(lib, version) {\n",
       "      var key = `${lib.replace(\"-\", \"\")}_version`;\n",
       "      return (VEGA_DEBUG[key] == version) ?\n",
       "        Promise.resolve(paths[lib]) :\n",
       "        new Promise(function(resolve, reject) {\n",
       "          var s = document.createElement('script');\n",
       "          document.getElementsByTagName(\"head\")[0].appendChild(s);\n",
       "          s.async = true;\n",
       "          s.onload = () => {\n",
       "            VEGA_DEBUG[key] = version;\n",
       "            return resolve(paths[lib]);\n",
       "          };\n",
       "          s.onerror = () => reject(`Error loading script: ${paths[lib]}`);\n",
       "          s.src = paths[lib];\n",
       "        });\n",
       "    }\n",
       "\n",
       "    function showError(err) {\n",
       "      outputDiv.innerHTML = `<div class=\"error\" style=\"color:red;\">${err}</div>`;\n",
       "      throw err;\n",
       "    }\n",
       "\n",
       "    function displayChart(vegaEmbed) {\n",
       "      vegaEmbed(outputDiv, spec, embedOpt)\n",
       "        .catch(err => showError(`Javascript Error: ${err.message}<br>This usually means there's a typo in your chart specification. See the javascript console for the full traceback.`));\n",
       "    }\n",
       "\n",
       "    if(typeof define === \"function\" && define.amd) {\n",
       "      requirejs.config({paths});\n",
       "      require([\"vega-embed\"], displayChart, err => showError(`Error loading script: ${err.message}`));\n",
       "    } else {\n",
       "      maybeLoadScript(\"vega\", \"5\")\n",
       "        .then(() => maybeLoadScript(\"vega-lite\", \"5.8.0\"))\n",
       "        .then(() => maybeLoadScript(\"vega-embed\", \"6\"))\n",
       "        .catch(showError)\n",
       "        .then(() => displayChart(vegaEmbed));\n",
       "    }\n",
       "  })({\"config\": {\"view\": {\"continuousWidth\": 300, \"continuousHeight\": 300}, \"axis\": {\"labelFontSize\": 14}, \"mark\": {\"size\": 10}}, \"data\": {\"name\": \"data-5dc0824f175212d9ecbd8905b9bb61e2\"}, \"mark\": {\"type\": \"bar\"}, \"encoding\": {\"tooltip\": [{\"field\": \"movieId\", \"type\": \"quantitative\"}, {\"field\": \"rating\", \"type\": \"quantitative\"}], \"x\": {\"field\": \"movieId\", \"sort\": \"-y\", \"type\": \"ordinal\"}, \"y\": {\"field\": \"rating\", \"type\": \"quantitative\"}}, \"height\": 400, \"width\": 1000, \"$schema\": \"https://vega.github.io/schema/vega-lite/v5.8.0.json\", \"datasets\": {\"data-5dc0824f175212d9ecbd8905b9bb61e2\": [{\"row_nr\": 0, \"movieId\": 356, \"rating\": 91921}, {\"row_nr\": 1, \"movieId\": 318, \"rating\": 91082}, {\"row_nr\": 2, \"movieId\": 296, \"rating\": 87901}, {\"row_nr\": 3, \"movieId\": 593, \"rating\": 84078}, {\"row_nr\": 4, \"movieId\": 2571, \"rating\": 77960}, {\"row_nr\": 5, \"movieId\": 260, \"rating\": 77045}, {\"row_nr\": 6, \"movieId\": 480, \"rating\": 74355}, {\"row_nr\": 7, \"movieId\": 527, \"rating\": 67662}, {\"row_nr\": 8, \"movieId\": 110, \"rating\": 66512}, {\"row_nr\": 9, \"movieId\": 1, \"rating\": 66008}, {\"row_nr\": 10, \"movieId\": 1210, \"rating\": 62714}, {\"row_nr\": 11, \"movieId\": 589, \"rating\": 61836}, {\"row_nr\": 12, \"movieId\": 1196, \"rating\": 61672}, {\"row_nr\": 13, \"movieId\": 2959, \"rating\": 60024}, {\"row_nr\": 14, \"movieId\": 1198, \"rating\": 59693}, {\"row_nr\": 15, \"movieId\": 50, \"rating\": 59271}, {\"row_nr\": 16, \"movieId\": 2858, \"rating\": 57879}, {\"row_nr\": 17, \"movieId\": 150, \"rating\": 57416}, {\"row_nr\": 18, \"movieId\": 780, \"rating\": 57232}, {\"row_nr\": 19, \"movieId\": 858, \"rating\": 57070}, {\"row_nr\": 20, \"movieId\": 4993, \"rating\": 56827}, {\"row_nr\": 21, \"movieId\": 457, \"rating\": 56820}, {\"row_nr\": 22, \"movieId\": 1270, \"rating\": 54783}, {\"row_nr\": 23, \"movieId\": 592, \"rating\": 53717}, {\"row_nr\": 24, \"movieId\": 32, \"rating\": 53398}, {\"row_nr\": 25, \"movieId\": 47, \"rating\": 52658}, {\"row_nr\": 26, \"movieId\": 608, \"rating\": 52474}, {\"row_nr\": 27, \"movieId\": 5952, \"rating\": 51882}, {\"row_nr\": 28, \"movieId\": 7153, \"rating\": 51837}, {\"row_nr\": 29, \"movieId\": 590, \"rating\": 51338}]}}, {\"mode\": \"vega-lite\"});\n",
       "</script>"
      ],
      "text/plain": [
       "alt.Chart(...)"
      ]
     },
     "execution_count": 6,
     "metadata": {},
     "output_type": "execute_result"
    }
   ],
   "source": [
    "alt.Chart(top_df.to_pandas()).mark_bar().encode(\n",
    "    x=alt.X(\"movieId:O\", sort=\"-y\"),\n",
    "    y=\"rating\",\n",
    "    tooltip=[\"movieId\", \"rating\"]\n",
    ").properties(\n",
    "    width=1000,  # Specify the desired width of the chart\n",
    "    height=400\n",
    ").configure_axis(\n",
    "    labelFontSize=14,  # Increase the font size of the axis labels\n",
    ").configure_mark(\n",
    "    size=10,  # Decrease the size of the bars\n",
    ")"
   ]
  },
  {
   "cell_type": "code",
   "execution_count": 8,
   "metadata": {},
   "outputs": [],
   "source": [
    "rating_top_df = (\n",
    "    lf\n",
    "    .select(\"rating\")\n",
    "    .collect()\n",
    "    .to_series()\n",
    "    .cut(bins=[0, 1, 2, 3, 4, 5])\n",
    "    .groupby(\"break_point\")\n",
    "    .agg(pl.count())\n",
    "    .rename({\"break_point\": \"rating\"})\n",
    ")"
   ]
  },
  {
   "cell_type": "code",
   "execution_count": 10,
   "metadata": {},
   "outputs": [
    {
     "data": {
      "text/html": [
       "<div><style>\n",
       ".dataframe > thead > tr > th,\n",
       ".dataframe > tbody > tr > td {\n",
       "  text-align: right;\n",
       "}\n",
       "</style>\n",
       "<small>shape: (5, 2)</small><table border=\"1\" class=\"dataframe\"><thead><tr><th>rating</th><th>count</th></tr><tr><td>f64</td><td>u32</td></tr></thead><tbody><tr><td>5.0</td><td>5966742</td></tr><tr><td>2.0</td><td>2162582</td></tr><tr><td>1.0</td><td>1244643</td></tr><tr><td>4.0</td><td>10095163</td></tr><tr><td>3.0</td><td>6502925</td></tr></tbody></table></div>"
      ],
      "text/plain": [
       "shape: (5, 2)\n",
       "┌────────┬──────────┐\n",
       "│ rating ┆ count    │\n",
       "│ ---    ┆ ---      │\n",
       "│ f64    ┆ u32      │\n",
       "╞════════╪══════════╡\n",
       "│ 5.0    ┆ 5966742  │\n",
       "│ 2.0    ┆ 2162582  │\n",
       "│ 1.0    ┆ 1244643  │\n",
       "│ 4.0    ┆ 10095163 │\n",
       "│ 3.0    ┆ 6502925  │\n",
       "└────────┴──────────┘"
      ]
     },
     "execution_count": 10,
     "metadata": {},
     "output_type": "execute_result"
    }
   ],
   "source": [
    "rating_top_df"
   ]
  },
  {
   "cell_type": "code",
   "execution_count": 11,
   "metadata": {},
   "outputs": [
    {
     "data": {
      "text/html": [
       "\n",
       "<style>\n",
       "  #altair-viz-ec4a32e449ff437fabf119a8197dfd2b.vega-embed {\n",
       "    width: 100%;\n",
       "    display: flex;\n",
       "  }\n",
       "\n",
       "  #altair-viz-ec4a32e449ff437fabf119a8197dfd2b.vega-embed details,\n",
       "  #altair-viz-ec4a32e449ff437fabf119a8197dfd2b.vega-embed details summary {\n",
       "    position: relative;\n",
       "  }\n",
       "</style>\n",
       "<div id=\"altair-viz-ec4a32e449ff437fabf119a8197dfd2b\"></div>\n",
       "<script type=\"text/javascript\">\n",
       "  var VEGA_DEBUG = (typeof VEGA_DEBUG == \"undefined\") ? {} : VEGA_DEBUG;\n",
       "  (function(spec, embedOpt){\n",
       "    let outputDiv = document.currentScript.previousElementSibling;\n",
       "    if (outputDiv.id !== \"altair-viz-ec4a32e449ff437fabf119a8197dfd2b\") {\n",
       "      outputDiv = document.getElementById(\"altair-viz-ec4a32e449ff437fabf119a8197dfd2b\");\n",
       "    }\n",
       "    const paths = {\n",
       "      \"vega\": \"https://cdn.jsdelivr.net/npm/vega@5?noext\",\n",
       "      \"vega-lib\": \"https://cdn.jsdelivr.net/npm/vega-lib?noext\",\n",
       "      \"vega-lite\": \"https://cdn.jsdelivr.net/npm/vega-lite@5.8.0?noext\",\n",
       "      \"vega-embed\": \"https://cdn.jsdelivr.net/npm/vega-embed@6?noext\",\n",
       "    };\n",
       "\n",
       "    function maybeLoadScript(lib, version) {\n",
       "      var key = `${lib.replace(\"-\", \"\")}_version`;\n",
       "      return (VEGA_DEBUG[key] == version) ?\n",
       "        Promise.resolve(paths[lib]) :\n",
       "        new Promise(function(resolve, reject) {\n",
       "          var s = document.createElement('script');\n",
       "          document.getElementsByTagName(\"head\")[0].appendChild(s);\n",
       "          s.async = true;\n",
       "          s.onload = () => {\n",
       "            VEGA_DEBUG[key] = version;\n",
       "            return resolve(paths[lib]);\n",
       "          };\n",
       "          s.onerror = () => reject(`Error loading script: ${paths[lib]}`);\n",
       "          s.src = paths[lib];\n",
       "        });\n",
       "    }\n",
       "\n",
       "    function showError(err) {\n",
       "      outputDiv.innerHTML = `<div class=\"error\" style=\"color:red;\">${err}</div>`;\n",
       "      throw err;\n",
       "    }\n",
       "\n",
       "    function displayChart(vegaEmbed) {\n",
       "      vegaEmbed(outputDiv, spec, embedOpt)\n",
       "        .catch(err => showError(`Javascript Error: ${err.message}<br>This usually means there's a typo in your chart specification. See the javascript console for the full traceback.`));\n",
       "    }\n",
       "\n",
       "    if(typeof define === \"function\" && define.amd) {\n",
       "      requirejs.config({paths});\n",
       "      require([\"vega-embed\"], displayChart, err => showError(`Error loading script: ${err.message}`));\n",
       "    } else {\n",
       "      maybeLoadScript(\"vega\", \"5\")\n",
       "        .then(() => maybeLoadScript(\"vega-lite\", \"5.8.0\"))\n",
       "        .then(() => maybeLoadScript(\"vega-embed\", \"6\"))\n",
       "        .catch(showError)\n",
       "        .then(() => displayChart(vegaEmbed));\n",
       "    }\n",
       "  })({\"config\": {\"view\": {\"continuousWidth\": 300, \"continuousHeight\": 300}, \"axis\": {\"labelAngle\": 0, \"labelFontSize\": 14}, \"mark\": {\"size\": 10}}, \"data\": {\"name\": \"data-4b9417d8a0da2d078f241883f76636ba\"}, \"mark\": {\"type\": \"bar\"}, \"encoding\": {\"tooltip\": [{\"field\": \"rating\", \"type\": \"quantitative\"}, {\"field\": \"count\", \"type\": \"quantitative\"}], \"x\": {\"field\": \"rating\", \"type\": \"ordinal\"}, \"y\": {\"field\": \"count\", \"type\": \"quantitative\"}}, \"height\": 400, \"width\": 1000, \"$schema\": \"https://vega.github.io/schema/vega-lite/v5.8.0.json\", \"datasets\": {\"data-4b9417d8a0da2d078f241883f76636ba\": [{\"rating\": 5.0, \"count\": 5966742}, {\"rating\": 2.0, \"count\": 2162582}, {\"rating\": 1.0, \"count\": 1244643}, {\"rating\": 4.0, \"count\": 10095163}, {\"rating\": 3.0, \"count\": 6502925}]}}, {\"mode\": \"vega-lite\"});\n",
       "</script>"
      ],
      "text/plain": [
       "alt.Chart(...)"
      ]
     },
     "execution_count": 11,
     "metadata": {},
     "output_type": "execute_result"
    }
   ],
   "source": [
    "alt.Chart(rating_top_df.to_pandas()).mark_bar().encode(\n",
    "    x=\"rating:O\",\n",
    "    y=\"count\",\n",
    "    tooltip=[\"rating\", \"count\"]\n",
    ").properties(\n",
    "    width=1000,  # Specify the desired width of the chart\n",
    "    height=400\n",
    ").configure_axis(\n",
    "    labelFontSize=14,  # Increase the font size of the axis labels\n",
    "    labelAngle=0\n",
    ").configure_mark(\n",
    "    size=10,  # Decrease the size of the bars\n",
    ")"
   ]
  },
  {
   "cell_type": "code",
   "execution_count": 12,
   "metadata": {},
   "outputs": [],
   "source": [
    "rating_month_df = (\n",
    "    lf.select(\"timestamp\")\n",
    "    .with_columns(date=pl.from_epoch(\"timestamp\", time_unit=\"s\"))\n",
    "    .with_columns(date=pl.col(\"date\").dt.date())\n",
    "    .groupby(pl.col(\"date\").dt.truncate(\"1mo\"))\n",
    "    .agg(pl.count())\n",
    "    .collect()\n",
    ")"
   ]
  },
  {
   "cell_type": "code",
   "execution_count": 13,
   "metadata": {},
   "outputs": [
    {
     "data": {
      "text/html": [
       "<div><style>\n",
       ".dataframe > thead > tr > th,\n",
       ".dataframe > tbody > tr > td {\n",
       "  text-align: right;\n",
       "}\n",
       "</style>\n",
       "<small>shape: (260, 2)</small><table border=\"1\" class=\"dataframe\"><thead><tr><th>date</th><th>count</th></tr><tr><td>date</td><td>u32</td></tr></thead><tbody><tr><td>2002-01-01</td><td>104423</td></tr><tr><td>2012-09-01</td><td>56923</td></tr><tr><td>2005-05-01</td><td>164152</td></tr><tr><td>2014-10-01</td><td>41257</td></tr><tr><td>2008-05-01</td><td>70813</td></tr><tr><td>2009-09-01</td><td>72144</td></tr><tr><td>2009-03-01</td><td>104428</td></tr><tr><td>2002-05-01</td><td>68103</td></tr><tr><td>2011-10-01</td><td>58074</td></tr><tr><td>1997-04-01</td><td>93801</td></tr><tr><td>1999-01-01</td><td>27065</td></tr><tr><td>2000-04-01</td><td>185765</td></tr><tr><td>&hellip;</td><td>&hellip;</td></tr><tr><td>2002-02-01</td><td>83179</td></tr><tr><td>2017-05-01</td><td>205395</td></tr><tr><td>2008-01-01</td><td>111419</td></tr><tr><td>2002-06-01</td><td>61524</td></tr><tr><td>2010-07-01</td><td>81047</td></tr><tr><td>1996-02-01</td><td>588</td></tr><tr><td>2003-04-01</td><td>72795</td></tr><tr><td>2014-11-01</td><td>78524</td></tr><tr><td>2017-01-01</td><td>204166</td></tr><tr><td>2011-01-01</td><td>88100</td></tr><tr><td>2009-04-01</td><td>83587</td></tr><tr><td>1996-12-01</td><td>157267</td></tr></tbody></table></div>"
      ],
      "text/plain": [
       "shape: (260, 2)\n",
       "┌────────────┬────────┐\n",
       "│ date       ┆ count  │\n",
       "│ ---        ┆ ---    │\n",
       "│ date       ┆ u32    │\n",
       "╞════════════╪════════╡\n",
       "│ 2002-01-01 ┆ 104423 │\n",
       "│ 2012-09-01 ┆ 56923  │\n",
       "│ 2005-05-01 ┆ 164152 │\n",
       "│ 2014-10-01 ┆ 41257  │\n",
       "│ …          ┆ …      │\n",
       "│ 2017-01-01 ┆ 204166 │\n",
       "│ 2011-01-01 ┆ 88100  │\n",
       "│ 2009-04-01 ┆ 83587  │\n",
       "│ 1996-12-01 ┆ 157267 │\n",
       "└────────────┴────────┘"
      ]
     },
     "execution_count": 13,
     "metadata": {},
     "output_type": "execute_result"
    }
   ],
   "source": [
    "rating_month_df"
   ]
  },
  {
   "cell_type": "code",
   "execution_count": 14,
   "metadata": {},
   "outputs": [
    {
     "data": {
      "text/html": [
       "\n",
       "<style>\n",
       "  #altair-viz-3ebc0917d52041d4b1a1c3b18b65739d.vega-embed {\n",
       "    width: 100%;\n",
       "    display: flex;\n",
       "  }\n",
       "\n",
       "  #altair-viz-3ebc0917d52041d4b1a1c3b18b65739d.vega-embed details,\n",
       "  #altair-viz-3ebc0917d52041d4b1a1c3b18b65739d.vega-embed details summary {\n",
       "    position: relative;\n",
       "  }\n",
       "</style>\n",
       "<div id=\"altair-viz-3ebc0917d52041d4b1a1c3b18b65739d\"></div>\n",
       "<script type=\"text/javascript\">\n",
       "  var VEGA_DEBUG = (typeof VEGA_DEBUG == \"undefined\") ? {} : VEGA_DEBUG;\n",
       "  (function(spec, embedOpt){\n",
       "    let outputDiv = document.currentScript.previousElementSibling;\n",
       "    if (outputDiv.id !== \"altair-viz-3ebc0917d52041d4b1a1c3b18b65739d\") {\n",
       "      outputDiv = document.getElementById(\"altair-viz-3ebc0917d52041d4b1a1c3b18b65739d\");\n",
       "    }\n",
       "    const paths = {\n",
       "      \"vega\": \"https://cdn.jsdelivr.net/npm/vega@5?noext\",\n",
       "      \"vega-lib\": \"https://cdn.jsdelivr.net/npm/vega-lib?noext\",\n",
       "      \"vega-lite\": \"https://cdn.jsdelivr.net/npm/vega-lite@5.8.0?noext\",\n",
       "      \"vega-embed\": \"https://cdn.jsdelivr.net/npm/vega-embed@6?noext\",\n",
       "    };\n",
       "\n",
       "    function maybeLoadScript(lib, version) {\n",
       "      var key = `${lib.replace(\"-\", \"\")}_version`;\n",
       "      return (VEGA_DEBUG[key] == version) ?\n",
       "        Promise.resolve(paths[lib]) :\n",
       "        new Promise(function(resolve, reject) {\n",
       "          var s = document.createElement('script');\n",
       "          document.getElementsByTagName(\"head\")[0].appendChild(s);\n",
       "          s.async = true;\n",
       "          s.onload = () => {\n",
       "            VEGA_DEBUG[key] = version;\n",
       "            return resolve(paths[lib]);\n",
       "          };\n",
       "          s.onerror = () => reject(`Error loading script: ${paths[lib]}`);\n",
       "          s.src = paths[lib];\n",
       "        });\n",
       "    }\n",
       "\n",
       "    function showError(err) {\n",
       "      outputDiv.innerHTML = `<div class=\"error\" style=\"color:red;\">${err}</div>`;\n",
       "      throw err;\n",
       "    }\n",
       "\n",
       "    function displayChart(vegaEmbed) {\n",
       "      vegaEmbed(outputDiv, spec, embedOpt)\n",
       "        .catch(err => showError(`Javascript Error: ${err.message}<br>This usually means there's a typo in your chart specification. See the javascript console for the full traceback.`));\n",
       "    }\n",
       "\n",
       "    if(typeof define === \"function\" && define.amd) {\n",
       "      requirejs.config({paths});\n",
       "      require([\"vega-embed\"], displayChart, err => showError(`Error loading script: ${err.message}`));\n",
       "    } else {\n",
       "      maybeLoadScript(\"vega\", \"5\")\n",
       "        .then(() => maybeLoadScript(\"vega-lite\", \"5.8.0\"))\n",
       "        .then(() => maybeLoadScript(\"vega-embed\", \"6\"))\n",
       "        .catch(showError)\n",
       "        .then(() => displayChart(vegaEmbed));\n",
       "    }\n",
       "  })({\"config\": {\"view\": {\"continuousWidth\": 300, \"continuousHeight\": 300}, \"axis\": {\"labelAngle\": 40, \"labelFontSize\": 14}}, \"data\": {\"name\": \"data-4a920440419b11ab66ffcedb86ca481c\"}, \"mark\": {\"type\": \"line\"}, \"encoding\": {\"tooltip\": [{\"field\": \"date\", \"type\": \"temporal\"}, {\"field\": \"count\", \"type\": \"quantitative\"}], \"x\": {\"field\": \"date\", \"timeUnit\": \"yearmonth\", \"type\": \"temporal\"}, \"y\": {\"field\": \"count\", \"type\": \"quantitative\"}}, \"height\": 400, \"width\": 1000, \"$schema\": \"https://vega.github.io/schema/vega-lite/v5.8.0.json\", \"datasets\": {\"data-4a920440419b11ab66ffcedb86ca481c\": [{\"date\": \"2002-01-01T00:00:00\", \"count\": 104423}, {\"date\": \"2012-09-01T00:00:00\", \"count\": 56923}, {\"date\": \"2005-05-01T00:00:00\", \"count\": 164152}, {\"date\": \"2014-10-01T00:00:00\", \"count\": 41257}, {\"date\": \"2008-05-01T00:00:00\", \"count\": 70813}, {\"date\": \"2009-09-01T00:00:00\", \"count\": 72144}, {\"date\": \"2009-03-01T00:00:00\", \"count\": 104428}, {\"date\": \"2002-05-01T00:00:00\", \"count\": 68103}, {\"date\": \"2011-10-01T00:00:00\", \"count\": 58074}, {\"date\": \"1997-04-01T00:00:00\", \"count\": 93801}, {\"date\": \"1999-01-01T00:00:00\", \"count\": 27065}, {\"date\": \"2000-04-01T00:00:00\", \"count\": 185765}, {\"date\": \"1998-07-01T00:00:00\", \"count\": 86560}, {\"date\": \"2002-11-01T00:00:00\", \"count\": 74508}, {\"date\": \"2004-07-01T00:00:00\", \"count\": 95296}, {\"date\": \"2013-12-01T00:00:00\", \"count\": 45270}, {\"date\": \"1996-06-01T00:00:00\", \"count\": 275676}, {\"date\": \"2012-03-01T00:00:00\", \"count\": 65603}, {\"date\": \"2005-11-01T00:00:00\", \"count\": 115247}, {\"date\": \"2016-12-01T00:00:00\", \"count\": 158193}, {\"date\": \"2007-12-01T00:00:00\", \"count\": 90380}, {\"date\": \"2005-01-01T00:00:00\", \"count\": 143538}, {\"date\": \"1999-05-01T00:00:00\", \"count\": 13798}, {\"date\": \"2010-12-01T00:00:00\", \"count\": 75733}, {\"date\": \"2003-09-01T00:00:00\", \"count\": 80073}, {\"date\": \"2006-03-01T00:00:00\", \"count\": 119438}, {\"date\": \"1996-01-01T00:00:00\", \"count\": 66}, {\"date\": \"2001-07-01T00:00:00\", \"count\": 158153}, {\"date\": \"2015-08-01T00:00:00\", \"count\": 226453}, {\"date\": \"2006-09-01T00:00:00\", \"count\": 79571}, {\"date\": \"2008-11-01T00:00:00\", \"count\": 142287}, {\"date\": \"1999-11-01T00:00:00\", \"count\": 245024}, {\"date\": \"2003-03-01T00:00:00\", \"count\": 101850}, {\"date\": \"2016-02-01T00:00:00\", \"count\": 187403}, {\"date\": \"2013-02-01T00:00:00\", \"count\": 55858}, {\"date\": \"2013-06-01T00:00:00\", \"count\": 49128}, {\"date\": \"1998-12-01T00:00:00\", \"count\": 34642}, {\"date\": \"2010-06-01T00:00:00\", \"count\": 73661}, {\"date\": \"2006-08-01T00:00:00\", \"count\": 84555}, {\"date\": \"2009-08-01T00:00:00\", \"count\": 76432}, {\"date\": \"2016-01-01T00:00:00\", \"count\": 207142}, {\"date\": \"2004-02-01T00:00:00\", \"count\": 134307}, {\"date\": \"1996-11-01T00:00:00\", \"count\": 196773}, {\"date\": \"2010-02-01T00:00:00\", \"count\": 70162}, {\"date\": \"2002-10-01T00:00:00\", \"count\": 63033}, {\"date\": \"2004-12-01T00:00:00\", \"count\": 83751}, {\"date\": \"2007-02-01T00:00:00\", \"count\": 109460}, {\"date\": \"2016-06-01T00:00:00\", \"count\": 174421}, {\"date\": \"2008-10-01T00:00:00\", \"count\": 174055}, {\"date\": \"2005-10-01T00:00:00\", \"count\": 104827}, {\"date\": \"2000-09-01T00:00:00\", \"count\": 82622}, {\"date\": \"2007-06-01T00:00:00\", \"count\": 98553}, {\"date\": \"1996-05-01T00:00:00\", \"count\": 203256}, {\"date\": \"1997-03-01T00:00:00\", \"count\": 110130}, {\"date\": \"2014-04-01T00:00:00\", \"count\": 41980}, {\"date\": \"2003-08-01T00:00:00\", \"count\": 81353}, {\"date\": \"2011-04-01T00:00:00\", \"count\": 84029}, {\"date\": \"2017-04-01T00:00:00\", \"count\": 149569}, {\"date\": \"2012-08-01T00:00:00\", \"count\": 54928}, {\"date\": \"2015-07-01T00:00:00\", \"count\": 184184}, {\"date\": \"1999-10-01T00:00:00\", \"count\": 364826}, {\"date\": \"2000-03-01T00:00:00\", \"count\": 156732}, {\"date\": \"1997-09-01T00:00:00\", \"count\": 20421}, {\"date\": \"2001-12-01T00:00:00\", \"count\": 94557}, {\"date\": \"2017-03-01T00:00:00\", \"count\": 185081}, {\"date\": \"2016-05-01T00:00:00\", \"count\": 217317}, {\"date\": \"2002-04-01T00:00:00\", \"count\": 95452}, {\"date\": \"2004-01-01T00:00:00\", \"count\": 99299}, {\"date\": \"1996-10-01T00:00:00\", \"count\": 205554}, {\"date\": \"2007-11-01T00:00:00\", \"count\": 85710}, {\"date\": \"2009-07-01T00:00:00\", \"count\": 75807}, {\"date\": \"2008-04-01T00:00:00\", \"count\": 74937}, {\"date\": \"2010-01-01T00:00:00\", \"count\": 89811}, {\"date\": \"1998-02-01T00:00:00\", \"count\": 18873}, {\"date\": \"2013-01-01T00:00:00\", \"count\": 67725}, {\"date\": \"2001-06-01T00:00:00\", \"count\": 171943}, {\"date\": \"2011-09-01T00:00:00\", \"count\": 55996}, {\"date\": \"2016-11-01T00:00:00\", \"count\": 142671}, {\"date\": \"2006-07-01T00:00:00\", \"count\": 111721}, {\"date\": \"1998-06-01T00:00:00\", \"count\": 16182}, {\"date\": \"2015-12-01T00:00:00\", \"count\": 187941}, {\"date\": \"2004-06-01T00:00:00\", \"count\": 90048}, {\"date\": \"2010-11-01T00:00:00\", \"count\": 81731}, {\"date\": \"2005-04-01T00:00:00\", \"count\": 222962}, {\"date\": \"2003-07-01T00:00:00\", \"count\": 101273}, {\"date\": \"2001-02-01T00:00:00\", \"count\": 87933}, {\"date\": \"2010-05-01T00:00:00\", \"count\": 69707}, {\"date\": \"1999-04-01T00:00:00\", \"count\": 15300}, {\"date\": \"2000-08-01T00:00:00\", \"count\": 256840}, {\"date\": \"2013-11-01T00:00:00\", \"count\": 42595}, {\"date\": \"2007-01-01T00:00:00\", \"count\": 122742}, {\"date\": \"2013-05-01T00:00:00\", \"count\": 53693}, {\"date\": \"2014-03-01T00:00:00\", \"count\": 46718}, {\"date\": \"2012-07-01T00:00:00\", \"count\": 64133}, {\"date\": \"2011-03-01T00:00:00\", \"count\": 84980}, {\"date\": \"2007-05-01T00:00:00\", \"count\": 89134}, {\"date\": \"2014-09-01T00:00:00\", \"count\": 34719}, {\"date\": \"2001-01-01T00:00:00\", \"count\": 139847}, {\"date\": \"2008-03-01T00:00:00\", \"count\": 86790}, {\"date\": \"2009-12-01T00:00:00\", \"count\": 73393}, {\"date\": \"1998-05-01T00:00:00\", \"count\": 11422}, {\"date\": \"2012-12-01T00:00:00\", \"count\": 67714}, {\"date\": \"1998-01-01T00:00:00\", \"count\": 25605}, {\"date\": \"2002-03-01T00:00:00\", \"count\": 69157}, {\"date\": \"1999-09-01T00:00:00\", \"count\": 33625}, {\"date\": \"1999-03-01T00:00:00\", \"count\": 9139}, {\"date\": \"2010-10-01T00:00:00\", \"count\": 94389}, {\"date\": \"2004-05-01T00:00:00\", \"count\": 100331}, {\"date\": \"2017-08-01T00:00:00\", \"count\": 12658}, {\"date\": \"1995-01-01T00:00:00\", \"count\": 4}, {\"date\": \"2008-09-01T00:00:00\", \"count\": 79548}, {\"date\": \"2013-10-01T00:00:00\", \"count\": 40076}, {\"date\": \"1998-11-01T00:00:00\", \"count\": 16637}, {\"date\": \"2014-08-01T00:00:00\", \"count\": 40322}, {\"date\": \"2012-02-01T00:00:00\", \"count\": 68555}, {\"date\": \"1996-04-01T00:00:00\", \"count\": 58900}, {\"date\": \"2000-07-01T00:00:00\", \"count\": 158457}, {\"date\": \"2006-12-01T00:00:00\", \"count\": 115386}, {\"date\": \"1997-07-01T00:00:00\", \"count\": 61422}, {\"date\": \"2005-09-01T00:00:00\", \"count\": 111241}, {\"date\": \"2011-08-01T00:00:00\", \"count\": 63147}, {\"date\": \"2001-11-01T00:00:00\", \"count\": 96788}, {\"date\": \"2003-12-01T00:00:00\", \"count\": 78670}, {\"date\": \"2005-03-01T00:00:00\", \"count\": 357086}, {\"date\": \"2007-10-01T00:00:00\", \"count\": 84142}, {\"date\": \"2016-10-01T00:00:00\", \"count\": 142212}, {\"date\": \"2004-11-01T00:00:00\", \"count\": 93607}, {\"date\": \"2015-02-01T00:00:00\", \"count\": 89469}, {\"date\": \"2002-09-01T00:00:00\", \"count\": 61702}, {\"date\": \"2015-06-01T00:00:00\", \"count\": 123884}, {\"date\": \"2001-05-01T00:00:00\", \"count\": 55478}, {\"date\": \"2007-04-01T00:00:00\", \"count\": 84450}, {\"date\": \"1996-03-01T00:00:00\", \"count\": 10747}, {\"date\": \"2000-12-01T00:00:00\", \"count\": 173948}, {\"date\": \"2009-02-01T00:00:00\", \"count\": 86294}, {\"date\": \"1996-09-01T00:00:00\", \"count\": 161206}, {\"date\": \"2012-01-01T00:00:00\", \"count\": 56096}, {\"date\": \"2000-02-01T00:00:00\", \"count\": 130430}, {\"date\": \"2015-05-01T00:00:00\", \"count\": 113533}, {\"date\": \"2009-06-01T00:00:00\", \"count\": 76270}, {\"date\": \"2003-02-01T00:00:00\", \"count\": 94830}, {\"date\": \"2010-04-01T00:00:00\", \"count\": 70875}, {\"date\": \"1999-08-01T00:00:00\", \"count\": 12180}, {\"date\": \"2002-08-01T00:00:00\", \"count\": 76560}, {\"date\": \"2008-08-01T00:00:00\", \"count\": 92448}, {\"date\": \"2014-07-01T00:00:00\", \"count\": 43388}, {\"date\": \"1997-12-01T00:00:00\", \"count\": 21848}, {\"date\": \"2017-07-01T00:00:00\", \"count\": 192040}, {\"date\": \"2011-07-01T00:00:00\", \"count\": 66204}, {\"date\": \"2015-11-01T00:00:00\", \"count\": 308286}, {\"date\": \"2016-04-01T00:00:00\", \"count\": 189030}, {\"date\": \"2006-06-01T00:00:00\", \"count\": 89764}, {\"date\": \"1998-10-01T00:00:00\", \"count\": 14636}, {\"date\": \"2006-02-01T00:00:00\", \"count\": 101078}, {\"date\": \"2012-06-01T00:00:00\", \"count\": 59238}, {\"date\": \"2001-10-01T00:00:00\", \"count\": 79817}, {\"date\": \"2005-08-01T00:00:00\", \"count\": 102515}, {\"date\": \"2004-10-01T00:00:00\", \"count\": 90494}, {\"date\": \"2013-04-01T00:00:00\", \"count\": 59071}, {\"date\": \"2003-06-01T00:00:00\", \"count\": 92460}, {\"date\": \"2015-01-01T00:00:00\", \"count\": 106811}, {\"date\": \"1998-04-01T00:00:00\", \"count\": 21160}, {\"date\": \"1996-08-01T00:00:00\", \"count\": 226035}, {\"date\": \"1997-06-01T00:00:00\", \"count\": 88308}, {\"date\": \"2005-07-01T00:00:00\", \"count\": 127827}, {\"date\": \"2003-11-01T00:00:00\", \"count\": 82689}, {\"date\": \"2006-11-01T00:00:00\", \"count\": 85362}, {\"date\": \"2007-09-01T00:00:00\", \"count\": 65130}, {\"date\": \"2015-10-01T00:00:00\", \"count\": 199292}, {\"date\": \"2011-12-01T00:00:00\", \"count\": 56300}, {\"date\": \"2001-04-01T00:00:00\", \"count\": 66023}, {\"date\": \"2012-11-01T00:00:00\", \"count\": 64873}, {\"date\": \"2014-12-01T00:00:00\", \"count\": 79438}, {\"date\": \"2016-03-01T00:00:00\", \"count\": 190360}, {\"date\": \"2010-09-01T00:00:00\", \"count\": 105534}, {\"date\": \"2000-01-01T00:00:00\", \"count\": 179165}, {\"date\": \"2009-11-01T00:00:00\", \"count\": 67956}, {\"date\": \"2013-09-01T00:00:00\", \"count\": 68958}, {\"date\": \"2003-05-01T00:00:00\", \"count\": 92035}, {\"date\": \"2007-03-01T00:00:00\", \"count\": 102865}, {\"date\": \"2004-04-01T00:00:00\", \"count\": 84484}, {\"date\": \"2009-05-01T00:00:00\", \"count\": 81281}, {\"date\": \"2006-01-01T00:00:00\", \"count\": 131131}, {\"date\": \"2002-07-01T00:00:00\", \"count\": 67091}, {\"date\": \"2010-03-01T00:00:00\", \"count\": 77163}, {\"date\": \"2012-05-01T00:00:00\", \"count\": 104562}, {\"date\": \"1999-07-01T00:00:00\", \"count\": 10970}, {\"date\": \"2008-07-01T00:00:00\", \"count\": 102400}, {\"date\": \"2000-06-01T00:00:00\", \"count\": 96728}, {\"date\": \"2013-03-01T00:00:00\", \"count\": 54668}, {\"date\": \"2009-01-01T00:00:00\", \"count\": 120770}, {\"date\": \"2003-01-01T00:00:00\", \"count\": 120081}, {\"date\": \"2006-05-01T00:00:00\", \"count\": 87506}, {\"date\": \"1997-02-01T00:00:00\", \"count\": 75553}, {\"date\": \"2016-09-01T00:00:00\", \"count\": 143700}, {\"date\": \"1997-11-01T00:00:00\", \"count\": 42073}, {\"date\": \"2009-10-01T00:00:00\", \"count\": 72447}, {\"date\": \"2011-02-01T00:00:00\", \"count\": 72533}, {\"date\": \"2008-12-01T00:00:00\", \"count\": 99755}, {\"date\": \"2005-12-01T00:00:00\", \"count\": 102451}, {\"date\": \"2011-06-01T00:00:00\", \"count\": 67381}, {\"date\": \"1998-09-01T00:00:00\", \"count\": 20041}, {\"date\": \"2000-05-01T00:00:00\", \"count\": 115940}, {\"date\": \"2017-02-01T00:00:00\", \"count\": 191557}, {\"date\": \"2002-12-01T00:00:00\", \"count\": 84824}, {\"date\": \"1996-07-01T00:00:00\", \"count\": 236002}, {\"date\": \"2015-04-01T00:00:00\", \"count\": 99714}, {\"date\": \"2016-08-01T00:00:00\", \"count\": 171321}, {\"date\": \"2001-03-01T00:00:00\", \"count\": 75815}, {\"date\": \"2006-10-01T00:00:00\", \"count\": 97204}, {\"date\": \"2000-11-01T00:00:00\", \"count\": 427610}, {\"date\": \"2010-08-01T00:00:00\", \"count\": 89966}, {\"date\": \"2008-02-01T00:00:00\", \"count\": 91830}, {\"date\": \"1998-03-01T00:00:00\", \"count\": 22351}, {\"date\": \"2014-06-01T00:00:00\", \"count\": 40331}, {\"date\": \"2017-06-01T00:00:00\", \"count\": 150897}, {\"date\": \"2001-09-01T00:00:00\", \"count\": 98041}, {\"date\": \"2012-10-01T00:00:00\", \"count\": 61131}, {\"date\": \"1997-05-01T00:00:00\", \"count\": 104136}, {\"date\": \"2007-08-01T00:00:00\", \"count\": 63379}, {\"date\": \"2004-09-01T00:00:00\", \"count\": 100285}, {\"date\": \"1999-12-01T00:00:00\", \"count\": 467958}, {\"date\": \"2013-08-01T00:00:00\", \"count\": 45217}, {\"date\": \"1997-01-01T00:00:00\", \"count\": 122797}, {\"date\": \"2003-10-01T00:00:00\", \"count\": 79505}, {\"date\": \"2004-03-01T00:00:00\", \"count\": 117112}, {\"date\": \"2014-02-01T00:00:00\", \"count\": 45495}, {\"date\": \"2008-06-01T00:00:00\", \"count\": 82202}, {\"date\": \"2000-10-01T00:00:00\", \"count\": 68181}, {\"date\": \"2001-08-01T00:00:00\", \"count\": 114008}, {\"date\": \"2014-05-01T00:00:00\", \"count\": 42344}, {\"date\": \"2016-07-01T00:00:00\", \"count\": 164597}, {\"date\": \"2011-05-01T00:00:00\", \"count\": 76724}, {\"date\": \"2006-04-01T00:00:00\", \"count\": 107613}, {\"date\": \"2011-11-01T00:00:00\", \"count\": 59102}, {\"date\": \"2007-07-01T00:00:00\", \"count\": 98037}, {\"date\": \"2013-07-01T00:00:00\", \"count\": 50118}, {\"date\": \"2015-03-01T00:00:00\", \"count\": 92090}, {\"date\": \"2014-01-01T00:00:00\", \"count\": 49259}, {\"date\": \"1997-10-01T00:00:00\", \"count\": 22646}, {\"date\": \"2012-04-01T00:00:00\", \"count\": 66933}, {\"date\": \"2005-06-01T00:00:00\", \"count\": 150081}, {\"date\": \"1998-08-01T00:00:00\", \"count\": 41356}, {\"date\": \"1999-02-01T00:00:00\", \"count\": 17754}, {\"date\": \"1999-06-01T00:00:00\", \"count\": 12391}, {\"date\": \"2004-08-01T00:00:00\", \"count\": 111465}, {\"date\": \"2015-09-01T00:00:00\", \"count\": 176523}, {\"date\": \"2005-02-01T00:00:00\", \"count\": 146250}, {\"date\": \"2002-02-01T00:00:00\", \"count\": 83179}, {\"date\": \"2017-05-01T00:00:00\", \"count\": 205395}, {\"date\": \"2008-01-01T00:00:00\", \"count\": 111419}, {\"date\": \"2002-06-01T00:00:00\", \"count\": 61524}, {\"date\": \"2010-07-01T00:00:00\", \"count\": 81047}, {\"date\": \"1996-02-01T00:00:00\", \"count\": 588}, {\"date\": \"2003-04-01T00:00:00\", \"count\": 72795}, {\"date\": \"2014-11-01T00:00:00\", \"count\": 78524}, {\"date\": \"2017-01-01T00:00:00\", \"count\": 204166}, {\"date\": \"2011-01-01T00:00:00\", \"count\": 88100}, {\"date\": \"2009-04-01T00:00:00\", \"count\": 83587}, {\"date\": \"1996-12-01T00:00:00\", \"count\": 157267}]}}, {\"mode\": \"vega-lite\"});\n",
       "</script>"
      ],
      "text/plain": [
       "alt.Chart(...)"
      ]
     },
     "execution_count": 14,
     "metadata": {},
     "output_type": "execute_result"
    }
   ],
   "source": [
    "alt.Chart(rating_month_df.to_pandas()).mark_line().encode(\n",
    "    x=\"yearmonth(date):T\",\n",
    "    y=\"count:Q\",\n",
    "    tooltip=[\"date\", \"count\"]\n",
    ").configure_axis(\n",
    "    labelFontSize=14,  # Increase the font size of the axis labels\n",
    "    labelAngle=40\n",
    ").properties(\n",
    "    width=1000,  # Specify the desired width of the chart\n",
    "    height=400\n",
    ")"
   ]
  },
  {
   "cell_type": "code",
   "execution_count": 144,
   "metadata": {},
   "outputs": [
    {
     "data": {
      "text/html": [
       "<div><style>\n",
       ".dataframe > thead > tr > th,\n",
       ".dataframe > tbody > tr > td {\n",
       "  text-align: right;\n",
       "}\n",
       "</style>\n",
       "<small>shape: (5, 2)</small><table border=\"1\" class=\"dataframe\"><thead><tr><th>break_point</th><th>count</th></tr><tr><td>f64</td><td>u32</td></tr></thead><tbody><tr><td>1900.0</td><td>99</td></tr><tr><td>100.0</td><td>34734</td></tr><tr><td>1600.0</td><td>114</td></tr><tr><td>600.0</td><td>430</td></tr><tr><td>1300.0</td><td>145</td></tr></tbody></table></div>"
      ],
      "text/plain": [
       "shape: (5, 2)\n",
       "┌─────────────┬───────┐\n",
       "│ break_point ┆ count │\n",
       "│ ---         ┆ ---   │\n",
       "│ f64         ┆ u32   │\n",
       "╞═════════════╪═══════╡\n",
       "│ 1900.0      ┆ 99    │\n",
       "│ 100.0       ┆ 34734 │\n",
       "│ 1600.0      ┆ 114   │\n",
       "│ 600.0       ┆ 430   │\n",
       "│ 1300.0      ┆ 145   │\n",
       "└─────────────┴───────┘"
      ]
     },
     "execution_count": 144,
     "metadata": {},
     "output_type": "execute_result"
    }
   ],
   "source": [
    "count_counter_df = (\n",
    "    lf\n",
    "    .groupby(\"movieId\")\n",
    "    .agg(pl.count())\n",
    "    .select(\"count\")\n",
    "    .collect()\n",
    "    .to_series()\n",
    "    .cut(range(0, 10001, 100))\n",
    "    .with_columns(break_point=pl.col(\"break_point\").clip_max(2000))\n",
    "    .groupby(\"break_point\")\n",
    "    .agg(pl.count())\n",
    ")\n",
    "count_counter_df.head(5)"
   ]
  },
  {
   "cell_type": "code",
   "execution_count": 145,
   "metadata": {},
   "outputs": [
    {
     "data": {
      "text/html": [
       "\n",
       "<style>\n",
       "  #altair-viz-cc2473e7041040c396c1812e1f94092e.vega-embed {\n",
       "    width: 100%;\n",
       "    display: flex;\n",
       "  }\n",
       "\n",
       "  #altair-viz-cc2473e7041040c396c1812e1f94092e.vega-embed details,\n",
       "  #altair-viz-cc2473e7041040c396c1812e1f94092e.vega-embed details summary {\n",
       "    position: relative;\n",
       "  }\n",
       "</style>\n",
       "<div id=\"altair-viz-cc2473e7041040c396c1812e1f94092e\"></div>\n",
       "<script type=\"text/javascript\">\n",
       "  var VEGA_DEBUG = (typeof VEGA_DEBUG == \"undefined\") ? {} : VEGA_DEBUG;\n",
       "  (function(spec, embedOpt){\n",
       "    let outputDiv = document.currentScript.previousElementSibling;\n",
       "    if (outputDiv.id !== \"altair-viz-cc2473e7041040c396c1812e1f94092e\") {\n",
       "      outputDiv = document.getElementById(\"altair-viz-cc2473e7041040c396c1812e1f94092e\");\n",
       "    }\n",
       "    const paths = {\n",
       "      \"vega\": \"https://cdn.jsdelivr.net/npm/vega@5?noext\",\n",
       "      \"vega-lib\": \"https://cdn.jsdelivr.net/npm/vega-lib?noext\",\n",
       "      \"vega-lite\": \"https://cdn.jsdelivr.net/npm/vega-lite@5.8.0?noext\",\n",
       "      \"vega-embed\": \"https://cdn.jsdelivr.net/npm/vega-embed@6?noext\",\n",
       "    };\n",
       "\n",
       "    function maybeLoadScript(lib, version) {\n",
       "      var key = `${lib.replace(\"-\", \"\")}_version`;\n",
       "      return (VEGA_DEBUG[key] == version) ?\n",
       "        Promise.resolve(paths[lib]) :\n",
       "        new Promise(function(resolve, reject) {\n",
       "          var s = document.createElement('script');\n",
       "          document.getElementsByTagName(\"head\")[0].appendChild(s);\n",
       "          s.async = true;\n",
       "          s.onload = () => {\n",
       "            VEGA_DEBUG[key] = version;\n",
       "            return resolve(paths[lib]);\n",
       "          };\n",
       "          s.onerror = () => reject(`Error loading script: ${paths[lib]}`);\n",
       "          s.src = paths[lib];\n",
       "        });\n",
       "    }\n",
       "\n",
       "    function showError(err) {\n",
       "      outputDiv.innerHTML = `<div class=\"error\" style=\"color:red;\">${err}</div>`;\n",
       "      throw err;\n",
       "    }\n",
       "\n",
       "    function displayChart(vegaEmbed) {\n",
       "      vegaEmbed(outputDiv, spec, embedOpt)\n",
       "        .catch(err => showError(`Javascript Error: ${err.message}<br>This usually means there's a typo in your chart specification. See the javascript console for the full traceback.`));\n",
       "    }\n",
       "\n",
       "    if(typeof define === \"function\" && define.amd) {\n",
       "      requirejs.config({paths});\n",
       "      require([\"vega-embed\"], displayChart, err => showError(`Error loading script: ${err.message}`));\n",
       "    } else {\n",
       "      maybeLoadScript(\"vega\", \"5\")\n",
       "        .then(() => maybeLoadScript(\"vega-lite\", \"5.8.0\"))\n",
       "        .then(() => maybeLoadScript(\"vega-embed\", \"6\"))\n",
       "        .catch(showError)\n",
       "        .then(() => displayChart(vegaEmbed));\n",
       "    }\n",
       "  })({\"config\": {\"view\": {\"continuousWidth\": 300, \"continuousHeight\": 300}, \"axis\": {\"labelAngle\": 90, \"labelFontSize\": 14}}, \"data\": {\"name\": \"data-74e97db4e9d08cc21a893c34b36c79cd\"}, \"mark\": {\"type\": \"bar\"}, \"encoding\": {\"tooltip\": [{\"field\": \"break_point\", \"type\": \"quantitative\"}, {\"field\": \"count\", \"type\": \"quantitative\"}], \"x\": {\"field\": \"break_point\", \"type\": \"ordinal\"}, \"y\": {\"field\": \"count\", \"type\": \"quantitative\"}}, \"height\": 400, \"width\": 1000, \"$schema\": \"https://vega.github.io/schema/vega-lite/v5.8.0.json\", \"datasets\": {\"data-74e97db4e9d08cc21a893c34b36c79cd\": [{\"break_point\": 1900.0, \"count\": 99}, {\"break_point\": 100.0, \"count\": 34734}, {\"break_point\": 1600.0, \"count\": 114}, {\"break_point\": 600.0, \"count\": 430}, {\"break_point\": 1300.0, \"count\": 145}, {\"break_point\": 2000.0, \"count\": 2524}, {\"break_point\": 800.0, \"count\": 281}, {\"break_point\": 1700.0, \"count\": 119}, {\"break_point\": 300.0, \"count\": 1087}, {\"break_point\": 1400.0, \"count\": 137}, {\"break_point\": 1000.0, \"count\": 209}, {\"break_point\": 400.0, \"count\": 784}, {\"break_point\": 1100.0, \"count\": 178}, {\"break_point\": 1800.0, \"count\": 87}, {\"break_point\": 700.0, \"count\": 363}, {\"break_point\": 500.0, \"count\": 591}, {\"break_point\": 1500.0, \"count\": 135}, {\"break_point\": 200.0, \"count\": 2165}, {\"break_point\": 1200.0, \"count\": 196}, {\"break_point\": 900.0, \"count\": 253}]}}, {\"mode\": \"vega-lite\"});\n",
       "</script>"
      ],
      "text/plain": [
       "alt.Chart(...)"
      ]
     },
     "execution_count": 145,
     "metadata": {},
     "output_type": "execute_result"
    }
   ],
   "source": [
    "alt.Chart(count_counter_df.to_pandas()).mark_bar().encode(\n",
    "    x=\"break_point:O\",\n",
    "    y=\"count:Q\",\n",
    "    tooltip=[\"break_point\", \"count\"]\n",
    ").configure_axis(\n",
    "    labelFontSize=14,  # Increase the font size of the axis labels\n",
    "    labelAngle=90\n",
    ").properties(\n",
    "    width=1000,  # Specify the desired width of the chart\n",
    "    height=400\n",
    ")"
   ]
  },
  {
   "cell_type": "code",
   "execution_count": 149,
   "metadata": {},
   "outputs": [
    {
     "data": {
      "text/html": [
       "<div><style>\n",
       ".dataframe > thead > tr > th,\n",
       ".dataframe > tbody > tr > td {\n",
       "  text-align: right;\n",
       "}\n",
       "</style>\n",
       "<small>shape: (5, 2)</small><table border=\"1\" class=\"dataframe\"><thead><tr><th>break_point</th><th>user_count</th></tr><tr><td>f64</td><td>u32</td></tr></thead><tbody><tr><td>250.0</td><td>26388</td></tr><tr><td>120.0</td><td>4308</td></tr><tr><td>180.0</td><td>2166</td></tr><tr><td>230.0</td><td>1457</td></tr><tr><td>60.0</td><td>11248</td></tr></tbody></table></div>"
      ],
      "text/plain": [
       "shape: (5, 2)\n",
       "┌─────────────┬────────────┐\n",
       "│ break_point ┆ user_count │\n",
       "│ ---         ┆ ---        │\n",
       "│ f64         ┆ u32        │\n",
       "╞═════════════╪════════════╡\n",
       "│ 250.0       ┆ 26388      │\n",
       "│ 120.0       ┆ 4308       │\n",
       "│ 180.0       ┆ 2166       │\n",
       "│ 230.0       ┆ 1457       │\n",
       "│ 60.0        ┆ 11248      │\n",
       "└─────────────┴────────────┘"
      ]
     },
     "execution_count": 149,
     "metadata": {},
     "output_type": "execute_result"
    }
   ],
   "source": [
    "# Given a rating total, how many users have rated movies that many?\n",
    "rating_total_user_count_df = (\n",
    "    lf\n",
    "    .select(\"userId\")\n",
    "    .groupby(\"userId\")\n",
    "    .agg(pl.count())\n",
    "    .collect()\n",
    "    .select(rated_times=\"count\")\n",
    "    .to_series()\n",
    "    .cut(bins=range(0, 1000, 10))\n",
    "    .with_columns(break_point=pl.col(\"break_point\").clip_max(250))\n",
    "    .groupby(\"break_point\")\n",
    "    .agg(user_count=pl.count())\n",
    ")\n",
    "rating_total_user_count_df.head(5)"
   ]
  },
  {
   "cell_type": "code",
   "execution_count": 150,
   "metadata": {},
   "outputs": [
    {
     "data": {
      "text/html": [
       "\n",
       "<style>\n",
       "  #altair-viz-20241d26134a41ddb96fe58a3c025848.vega-embed {\n",
       "    width: 100%;\n",
       "    display: flex;\n",
       "  }\n",
       "\n",
       "  #altair-viz-20241d26134a41ddb96fe58a3c025848.vega-embed details,\n",
       "  #altair-viz-20241d26134a41ddb96fe58a3c025848.vega-embed details summary {\n",
       "    position: relative;\n",
       "  }\n",
       "</style>\n",
       "<div id=\"altair-viz-20241d26134a41ddb96fe58a3c025848\"></div>\n",
       "<script type=\"text/javascript\">\n",
       "  var VEGA_DEBUG = (typeof VEGA_DEBUG == \"undefined\") ? {} : VEGA_DEBUG;\n",
       "  (function(spec, embedOpt){\n",
       "    let outputDiv = document.currentScript.previousElementSibling;\n",
       "    if (outputDiv.id !== \"altair-viz-20241d26134a41ddb96fe58a3c025848\") {\n",
       "      outputDiv = document.getElementById(\"altair-viz-20241d26134a41ddb96fe58a3c025848\");\n",
       "    }\n",
       "    const paths = {\n",
       "      \"vega\": \"https://cdn.jsdelivr.net/npm/vega@5?noext\",\n",
       "      \"vega-lib\": \"https://cdn.jsdelivr.net/npm/vega-lib?noext\",\n",
       "      \"vega-lite\": \"https://cdn.jsdelivr.net/npm/vega-lite@5.8.0?noext\",\n",
       "      \"vega-embed\": \"https://cdn.jsdelivr.net/npm/vega-embed@6?noext\",\n",
       "    };\n",
       "\n",
       "    function maybeLoadScript(lib, version) {\n",
       "      var key = `${lib.replace(\"-\", \"\")}_version`;\n",
       "      return (VEGA_DEBUG[key] == version) ?\n",
       "        Promise.resolve(paths[lib]) :\n",
       "        new Promise(function(resolve, reject) {\n",
       "          var s = document.createElement('script');\n",
       "          document.getElementsByTagName(\"head\")[0].appendChild(s);\n",
       "          s.async = true;\n",
       "          s.onload = () => {\n",
       "            VEGA_DEBUG[key] = version;\n",
       "            return resolve(paths[lib]);\n",
       "          };\n",
       "          s.onerror = () => reject(`Error loading script: ${paths[lib]}`);\n",
       "          s.src = paths[lib];\n",
       "        });\n",
       "    }\n",
       "\n",
       "    function showError(err) {\n",
       "      outputDiv.innerHTML = `<div class=\"error\" style=\"color:red;\">${err}</div>`;\n",
       "      throw err;\n",
       "    }\n",
       "\n",
       "    function displayChart(vegaEmbed) {\n",
       "      vegaEmbed(outputDiv, spec, embedOpt)\n",
       "        .catch(err => showError(`Javascript Error: ${err.message}<br>This usually means there's a typo in your chart specification. See the javascript console for the full traceback.`));\n",
       "    }\n",
       "\n",
       "    if(typeof define === \"function\" && define.amd) {\n",
       "      requirejs.config({paths});\n",
       "      require([\"vega-embed\"], displayChart, err => showError(`Error loading script: ${err.message}`));\n",
       "    } else {\n",
       "      maybeLoadScript(\"vega\", \"5\")\n",
       "        .then(() => maybeLoadScript(\"vega-lite\", \"5.8.0\"))\n",
       "        .then(() => maybeLoadScript(\"vega-embed\", \"6\"))\n",
       "        .catch(showError)\n",
       "        .then(() => displayChart(vegaEmbed));\n",
       "    }\n",
       "  })({\"config\": {\"view\": {\"continuousWidth\": 300, \"continuousHeight\": 300}, \"axis\": {\"labelAngle\": 90, \"labelFontSize\": 14}}, \"data\": {\"name\": \"data-e247cab4f60beb8d2712c11ddee70ac0\"}, \"mark\": {\"type\": \"bar\"}, \"encoding\": {\"tooltip\": [{\"field\": \"break_point\", \"type\": \"quantitative\"}, {\"field\": \"user_count\", \"type\": \"quantitative\"}], \"x\": {\"field\": \"break_point\", \"type\": \"ordinal\"}, \"y\": {\"field\": \"user_count\", \"type\": \"quantitative\"}}, \"height\": 400, \"width\": 1000, \"$schema\": \"https://vega.github.io/schema/vega-lite/v5.8.0.json\", \"datasets\": {\"data-e247cab4f60beb8d2712c11ddee70ac0\": [{\"break_point\": 250.0, \"user_count\": 26388}, {\"break_point\": 120.0, \"user_count\": 4308}, {\"break_point\": 180.0, \"user_count\": 2166}, {\"break_point\": 230.0, \"user_count\": 1457}, {\"break_point\": 60.0, \"user_count\": 11248}, {\"break_point\": 150.0, \"user_count\": 2937}, {\"break_point\": 90.0, \"user_count\": 6003}, {\"break_point\": 210.0, \"user_count\": 1818}, {\"break_point\": 170.0, \"user_count\": 2368}, {\"break_point\": 200.0, \"user_count\": 1820}, {\"break_point\": 30.0, \"user_count\": 27377}, {\"break_point\": 130.0, \"user_count\": 3784}, {\"break_point\": 40.0, \"user_count\": 18094}, {\"break_point\": 110.0, \"user_count\": 5502}, {\"break_point\": 100.0, \"user_count\": 5397}, {\"break_point\": 50.0, \"user_count\": 13597}, {\"break_point\": 10.0, \"user_count\": 43852}, {\"break_point\": 20.0, \"user_count\": 65676}, {\"break_point\": 160.0, \"user_count\": 2703}, {\"break_point\": 220.0, \"user_count\": 1687}, {\"break_point\": 140.0, \"user_count\": 3313}, {\"break_point\": 240.0, \"user_count\": 1384}, {\"break_point\": 190.0, \"user_count\": 1831}, {\"break_point\": 80.0, \"user_count\": 7353}, {\"break_point\": 70.0, \"user_count\": 8818}]}}, {\"mode\": \"vega-lite\"});\n",
       "</script>"
      ],
      "text/plain": [
       "alt.Chart(...)"
      ]
     },
     "execution_count": 150,
     "metadata": {},
     "output_type": "execute_result"
    }
   ],
   "source": [
    "alt.Chart(rating_total_user_count_df.to_pandas()).mark_bar().encode(\n",
    "    x=\"break_point:O\",\n",
    "    y=\"user_count:Q\",\n",
    "    tooltip=[\"break_point\", \"user_count\"]\n",
    ").configure_axis(\n",
    "    labelFontSize=14,  # Increase the font size of the axis labels\n",
    "    labelAngle=90\n",
    ").properties(\n",
    "    width=1000,  # Specify the desired width of the chart\n",
    "    height=400\n",
    ")"
   ]
  },
  {
   "cell_type": "code",
   "execution_count": null,
   "metadata": {},
   "outputs": [],
   "source": []
  }
 ],
 "metadata": {
  "kernelspec": {
   "display_name": ".venv",
   "language": "python",
   "name": "python3"
  },
  "language_info": {
   "codemirror_mode": {
    "name": "ipython",
    "version": 3
   },
   "file_extension": ".py",
   "mimetype": "text/x-python",
   "name": "python",
   "nbconvert_exporter": "python",
   "pygments_lexer": "ipython3",
   "version": "3.11.2"
  },
  "orig_nbformat": 4
 },
 "nbformat": 4,
 "nbformat_minor": 2
}
